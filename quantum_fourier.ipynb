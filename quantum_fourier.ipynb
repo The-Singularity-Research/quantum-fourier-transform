{
 "cells": [
  {
   "cell_type": "markdown",
   "metadata": {},
   "source": [
    "# Phase Estimation and Quantum Fourier Transforms"
   ]
  },
  {
   "cell_type": "markdown",
   "metadata": {},
   "source": [
    "## Imports and Dependencies"
   ]
  },
  {
   "cell_type": "code",
   "execution_count": 1,
   "metadata": {},
   "outputs": [],
   "source": [
    "import pennylane as qml\n",
    "from pennylane import numpy as np"
   ]
  },
  {
   "cell_type": "markdown",
   "metadata": {},
   "source": [
    "## Mathematical Introduction"
   ]
  },
  {
   "cell_type": "markdown",
   "metadata": {},
   "source": [
    "Various versions of the Fourier transform show up over and over again in mathematics, physics, computer science, engineering, and other areas. It is one of the most useful mathematical tools in existence. One such version, the **discrete Fourier transform** can be computed much faster on quantum computers than on classical computers. The discrete Fourier transform takes as input a complex vector \n",
    "\n",
    "\\begin{align}\n",
    "x = \n",
    "\\begin{pmatrix}\n",
    "x_0 \\\\ \n",
    "x_1 \\\\ \n",
    "x_2 \\\\\n",
    "\\vdots \\\\ \n",
    "x_{N-2} \\\\\n",
    "x_{N-1}\n",
    "\\end{pmatrix}.\n",
    "\\end{align}"
   ]
  },
  {
   "cell_type": "markdown",
   "metadata": {},
   "source": [
    "Each entry of the output vector $y$ is given by\n",
    "\n",
    "\\begin{align}\n",
    "y_k = \\frac{1}{\\sqrt{N}} \\sum_{j=0}^{N-1} x_je^{2 \\pi ijk/N}.\n",
    "\\end{align}\n",
    "\n",
    "The output is a complex vector\n",
    "\n",
    "\\begin{align}\n",
    "y = \n",
    "\\frac{1}{\\sqrt{N}}\n",
    "\\begin{pmatrix}\n",
    "\\sum_{j=0}^{N-1} x_je^{2\\pi ij0/N} \\\\\n",
    "\\sum_{j=0}^{N-1} x_je^{2\\pi ij1/N} \\\\\n",
    "\\sum_{j=0}^{N-1} x_je^{2\\pi ij2/N} \\\\\n",
    "\\vdots \\\\\n",
    "\\sum_{j=0}^{N-1} x_je^{2\\pi ij(N-2)/N} \\\\\n",
    "\\sum_{j=0}^{N-1} x_je^{2\\pi ij(N-1)/N}\n",
    "\\end{pmatrix}\n",
    "\\end{align}"
   ]
  },
  {
   "cell_type": "markdown",
   "metadata": {},
   "source": [
    "The **quantum Fourier transform** is the exact same transformation but the notation is generally different. We generally compute the quantum Fourier transform on a set of orthonormal basis state vectors $|0\\rangle, |1\\rangle, ..., |N-1\\rangle$. The linear operator defining the transform is given by the action on basis states\n",
    "\n",
    "\\begin{align}\n",
    "|j\\rangle \\mapsto \\frac{1}{\\sqrt{N}} \\sum_{k=0}^{N-1} e^{2\\pi ijk/N}|k\\rangle.\n",
    "\\end{align}\n",
    "\n",
    "This can be written on arbitrary states,\n",
    "\n",
    "\\begin{align}\n",
    "\\sum_{j=0}^{N-1}x_j|j\\rangle \\mapsto \\sum_{k=0}^{N-1} y_k|k\\rangle\n",
    "\\end{align}\n",
    "\n",
    "where each amplitude $y_k$ is the discrete Fourier transform of $x_j$. The quantum Fourier transform is unitary. Taking $N = 2^n$, for $n$ qubits gives us the orthonormal (computational) basis \n",
    "\n",
    "\\begin{align}\n",
    "|0\\rangle, |1\\rangle, ..., |2^{n}-1\\rangle.\n",
    "\\end{align}"
   ]
  },
  {
   "cell_type": "markdown",
   "metadata": {},
   "source": [
    "Each of the computational basis states can be represented in binary\n",
    "\n",
    "\\begin{align}\n",
    "j = j_1j_2 \\cdots j_n\n",
    "\\end{align}\n",
    "\n",
    "where each $j_k$ is either $0$ or $1$, and the corresponding binary vector is $|j_1j_2 \\cdots j_n\\rangle$. The quantum Fourier transform on one of these $n$-qubit vectors can be written as,\n",
    "\n",
    "\\begin{align}\n",
    "|j_1j_2 \\cdots j_n \\rangle = \\frac{\\left(|0\\rangle +e^{2\\pi i0.j_n}|1\\rangle\\right) \\otimes \\left(|0\\rangle +e^{2\\pi i0.j_{n-1}j_n}|1\\rangle\\right) \\otimes \\cdots \\otimes \\left(|0\\rangle +e^{2\\pi i0.j_1j_2 \\cdots j_n}|1\\rangle\\right)}{2^{n/2}}\n",
    "\\end{align}"
   ]
  },
  {
   "cell_type": "markdown",
   "metadata": {},
   "source": [
    "In the above, we use the notation\n",
    "\n",
    "\\begin{align}\n",
    "0.j_lj_{l+1} \\cdots j_n = \\frac{j+l}{2} + \\frac{j_{l+1}}{2^2} + \\cdots + \\frac{j_n}{2^{m-l+1}}\n",
    "\\end{align}"
   ]
  },
  {
   "cell_type": "markdown",
   "metadata": {},
   "source": [
    "Let's have a look at an example on a four qubit system. The basis states are, \n",
    "\n",
    "\\begin{align}\n",
    "|j_1j_2j_3j_4 \\rangle\n",
    "\\end{align}\n",
    "\n",
    "where $j_k$ is either $0$ or $1$. We have,\n",
    "\n",
    "\\begin{align}\n",
    "0.j_3 &= \\frac{j_3}{2} \\\\\n",
    "0.j_2j_3 &= \\frac{j_2}{2} + \\frac{j_3}{4} \\\\\n",
    "0.j_1j_2j_3 &= \\frac{j_1}{2} + \\frac{j_2}{4} + \\frac{j_3}{8} \\\\\n",
    "0.j_0j_1j_2j_3 &= \\frac{j_0}{2} + \\frac{j_1}{4} + \\frac{j_2}{8} + \\frac{j_3}{16} \\\\\n",
    "\\end{align}"
   ]
  },
  {
   "cell_type": "markdown",
   "metadata": {},
   "source": [
    "The quantum Fourier transform acts as follows:\n",
    "\n",
    "\\begin{align}\n",
    "|j_1j_2j_3j_4 \\rangle \\mapsto \\frac{1}{\\sqrt{2^{4/2}}}\n",
    "\\left(|0\\rangle + e^{2 \\pi i 0.j4}|1\\rangle \\right) \\otimes \n",
    "\\left(|0\\rangle + e^{2 \\pi i 0.j_3j4}|1\\rangle \\right) \\otimes \n",
    "\\left(|0\\rangle + e^{2 \\pi i 0.j_2j_3j4}|1\\rangle \\right) \\otimes \n",
    "\\left(|0\\rangle + e^{2 \\pi i 0.j_1j_2j_3j4}|1\\rangle \\right) \n",
    "\\end{align}"
   ]
  },
  {
   "cell_type": "markdown",
   "metadata": {},
   "source": [
    "To compose a quantum circuit that calculates the quantum Fourier transform we use the operators\n",
    "\n",
    "\\begin{align}\n",
    "R_k = \n",
    "\\begin{pmatrix}\n",
    "1 & 0 \\\\\n",
    "0 & e^{2\\pi i/2^k}\n",
    "\\end{pmatrix}.\n",
    "\\end{align}\n",
    "\n",
    "The circuit computing the QFT on four qubits is given by,"
   ]
  },
  {
   "cell_type": "markdown",
   "metadata": {},
   "source": [
    "![qft.png](qft.png)"
   ]
  },
  {
   "cell_type": "markdown",
   "metadata": {},
   "source": [
    "In this example, the $R_k$ gates are:\n",
    "\n",
    "\\begin{align}\n",
    "R_1 = \\begin{pmatrix}\n",
    "1 & 0 \\\\\n",
    "0 & e^{2 \\pi i /2^0}\n",
    "\\end{pmatrix} = \n",
    "\\begin{pmatrix}\n",
    "1 & 0 \\\\\n",
    "0 & 1\n",
    "\\end{pmatrix}, \\quad \n",
    "R_2 = \\begin{pmatrix}\n",
    "1 & 0 \\\\\n",
    "0 & e^{2 \\pi i /2^2}\n",
    "\\end{pmatrix}, \\quad \n",
    "R_3 = \\begin{pmatrix}\n",
    "1 & 0 \\\\\n",
    "0 & e^{2 \\pi i /2^3}\n",
    "\\end{pmatrix}, \\quad \n",
    "R_4 = \\begin{pmatrix}\n",
    "1 & 0 \\\\\n",
    "0 & e^{2 \\pi i /2^4}\n",
    "\\end{pmatrix}.\n",
    "\\end{align}"
   ]
  },
  {
   "cell_type": "markdown",
   "metadata": {},
   "source": [
    "\\begin{quantikz}\n",
    "\\lstick{\\ket{j_1}} \\qw & \\gate{H} & \\gate{R_2} & \\gate{R_3} & \\gate{R_4} & \\qw        & \\qw      & \\qw        & \\qw      & \\qw         & \\qw & \\qw \\\\\n",
    "\\lstick{\\ket{j_2}} \\qw & \\qw      & \\ctrl{-1}  & \\qw        & \\qw        & \\gate{H} & \\gate{R_2} & \\gate{R_3} & \\qw      & \\qw         & \\qw & \\qw \\\\       \n",
    "\\lstick{\\ket{j_3}} \\qw & \\qw      & \\qw        & \\ctrl{-2}  & \\qw        & \\qw      & \\ctrl{-1}  & \\qw        & \\gate{H} & \\gate{R_2}  & \\qw & \\qw \\\\\n",
    "\\lstick{\\ket{j_4}} \\qw & \\qw      & \\qw        & \\qw        & \\ctrl{-3}  & \\qw      & \\qw        & \\ctrl{-2}  & \\qw      & \\ctrl{-1}   & \\gate{H} & \\qw\n",
    "\\end{quantikz}"
   ]
  },
  {
   "cell_type": "markdown",
   "metadata": {},
   "source": [
    "Since the $R_1$ gate is simply the identity, it usually doesn't show up in code or circuit diagrams as it does nothing to any of the qubits. In general, we call the gate $R_k$ for $k=1, 2, 3, 4$ a $U_1$-gate. The $U_1$ gates are always of the form\n",
    "\n",
    "\\begin{align}\n",
    "\\begin{pmatrix}\n",
    "1 & 0 \\\\\n",
    "0 & e^{i \\lambda}\n",
    "\\end{pmatrix}\n",
    "\\end{align}\n",
    "\n",
    "where $\\lambda$ is generally some angle $\\lambda = 2\\pi/n$. For us the angle is of the form $\\lambda = 2\\pi/2^{k-1}$, where again, $k = 1, 2, 3, 4$ is the index of the gates $R_k$. Now, in the Quantum Fourier Transform we will need the controlled-$U_1$ gates, \n",
    "\n",
    "\\begin{align}\n",
    "|0\\rangle \\langle 0| \\otimes I + |1\\rangle \\langle 1| \\otimes U_1 =  \n",
    "\\begin{pmatrix}\n",
    "1 & 0 & 0 & 0 \\\\\n",
    "0 & 1 & 0 & 0 \\\\\n",
    "0 & 0 & 1 & 0 \\\\\n",
    "0 & 0 & 0 & e^{i \\lambda}\n",
    "\\end{pmatrix}. \n",
    "\\end{align}"
   ]
  },
  {
   "cell_type": "markdown",
   "metadata": {},
   "source": [
    "This of course operates on a two-qubit system, so modifying it for a four-qubit system means the matrix will be a little different. The term $|0\\rangle \\langle 0| \\otimes I$ always operates on the control qubit, and the term $|1\\rangle \\langle 1| \\otimes U_1$ always operates on the target qubit. As an example in a four qubit system, we might have the first qubit be the target qubit, and the fourth qubit the control qubit. In this case we would have an operator:\n",
    "\n",
    "\\begin{align}\n",
    "\\left(|0\\rangle \\langle 0| \\otimes U_1 \\otimes I \\otimes I\\right) + \\left(|1\\rangle \\langle 1| \\otimes I \\otimes I \\otimes I\\right)\n",
    "\\end{align}\n",
    "\n",
    "This would apply the $U_1$ gate to the first qubit, with the control gate on the fourth qubit, and the identity gates on the second and third qubit. The more general circuit for $n$ qubits has layers that are similar. "
   ]
  },
  {
   "cell_type": "markdown",
   "metadata": {},
   "source": [
    "### Exercises\n",
    "\n",
    "1. Draw the quantum circuit that computes the quantum Fourier transform on two qubits. \n",
    "2. Use Python to define the following gate:\n",
    "\n",
    "\\begin{align}\n",
    "CS = \\begin{pmatrix}\n",
    "S & 0 \\\\\n",
    "0 & X \n",
    "\\end{pmatrix} = \n",
    "\\begin{pmatrix}\n",
    "1 & 0 & 0 & 0 \\\\\n",
    "0 & e^{2 \\pi i/2^2} & 0 & 0 \\\\\n",
    "0 & 0 & 0 & 1 \\\\\n",
    "0 & 0 & 1 & 0\n",
    "\\end{pmatrix} = \n",
    "\\begin{pmatrix}\n",
    "1 & 0 & 0 & 0 \\\\\n",
    "0 & i & 0 & 0 \\\\\n",
    "0 & 0 & 0 & 1 \\\\\n",
    "0 & 0 & 1 & 0\n",
    "\\end{pmatrix}\n",
    "\\end{align}\n",
    "\n",
    "3. Use Python to define the four basis states $|00\\rangle$, $|01\\rangle$, $|10\\rangle$, and $|11\\rangle$ as four dimensional unit vectors. For example,\n",
    "\n",
    "\\begin{align}\n",
    "|00\\rangle = \n",
    "\\begin{pmatrix}\n",
    "1 \\\\\n",
    "0 \\\\\n",
    "0 \\\\\n",
    "0\n",
    "\\end{pmatrix}\n",
    "\\end{align}\n",
    "\n",
    "4. Define the gate $H \\otimes I$ and $I \\otimes H$ in Python, where $H$ is the Hadamard gate. \n",
    "5. Use the gates and basis states above to compute the quantum Fourier transform on the four basis states. \n",
    "6. Draw the quantum circuit that computes the quantum Fourier transform on three qubits. "
   ]
  },
  {
   "cell_type": "markdown",
   "metadata": {},
   "source": [
    "In general, we can write the quantum Fourier transform as a matrix operator, \n",
    "\n",
    "\\begin{align}\n",
    "F_N = \\frac{1}{\\sqrt{N}}\n",
    "\\begin{pmatrix}\n",
    "1 & 1 & 1 & 1 & \\cdots & 1 \\\\\n",
    "1 & \\omega & \\omega^2 & \\omega^3 & \\cdots & \\omega^{N-1} \\\\\n",
    "1 & \\omega^2 & \\omega^4 & \\omega^6 & \\cdots & \\omega^{2(N-1)} \\\\\n",
    "1 & \\omega^3 & \\omega^6 & \\omega^9 & \\cdots & \\omega^{3(N-1)} \\\\\n",
    "\\vdots & \\vdots & \\vdots & \\vdots & \\ddots & \\vdots \\\\\n",
    "1 & \\omega^{N-1} & \\omega^{2(N-1)} & \\omega^{3(N-1)} & \\cdots & \\omega^{(N-1)(N-1)}\n",
    "\\end{pmatrix}\n",
    "\\end{align}\n",
    "\n",
    "where $\\omega = e^{2 \\pi i/N}$. As an example, we can write the two qubit QFT as\n",
    "\n",
    "\\begin{align}\n",
    "F_4 = \\frac{1}{2}\n",
    "\\begin{pmatrix}\n",
    "1 & 1 & 1 & 1 \\\\\n",
    "1 & i & -1 & -i \\\\\n",
    "1 & -1 & 1 & -1 \\\\\n",
    "1 & -i & -1 & i\n",
    "\\end{pmatrix}\n",
    "\\end{align}"
   ]
  },
  {
   "cell_type": "markdown",
   "metadata": {},
   "source": [
    "We can define the four basis states $|00\\rangle, |01\\rangle, |10\\rangle, |00\\rangle$ and $F_4$ in Python:"
   ]
  },
  {
   "cell_type": "code",
   "execution_count": 2,
   "metadata": {},
   "outputs": [],
   "source": [
    "d = np.matrix([[1],\n",
    "               [0]])\n",
    "\n",
    "u = np.matrix([[0],\n",
    "               [1]])\n",
    "\n",
    "dd = np.kron(d,d)\n",
    "du = np.kron(d,u)\n",
    "ud = np.kron(u,d)\n",
    "uu = np.kron(u,u)\n",
    "\n",
    "F = np.matrix([[1,1,1,1],\n",
    "               [1,1j,-1,-1j],\n",
    "               [1,-1,1,-1],\n",
    "               [1,-1j,-1,1j]])"
   ]
  },
  {
   "cell_type": "code",
   "execution_count": 3,
   "metadata": {},
   "outputs": [
    {
     "name": "stdout",
     "output_type": "stream",
     "text": [
      "[[1.+0.j]\n",
      " [1.+0.j]\n",
      " [1.+0.j]\n",
      " [1.+0.j]]\n"
     ]
    }
   ],
   "source": [
    "print(F*dd)"
   ]
  },
  {
   "cell_type": "markdown",
   "metadata": {},
   "source": [
    "7. Compute $F_4(|01\\rangle)$. \n",
    "8. Compute $F_4(|10\\rangle)$. \n",
    "9. Compute $F_4(|00\\rangle)$. \n",
    "10. Write down the three qubit quantum Fourier transform $F_8$ in matrix form."
   ]
  },
  {
   "cell_type": "markdown",
   "metadata": {},
   "source": [
    "## The Quantum Fourier Transform in Qiskit"
   ]
  },
  {
   "cell_type": "markdown",
   "metadata": {},
   "source": [
    "### Imports and Dependencies"
   ]
  },
  {
   "cell_type": "code",
   "execution_count": 4,
   "metadata": {},
   "outputs": [
    {
     "name": "stdout",
     "output_type": "stream",
     "text": [
      "Requirement already satisfied: qiskit in /Users/amelieschreiber/anaconda3/lib/python3.7/site-packages (0.13.0)\n",
      "Requirement already satisfied: qiskit-aer==0.3.2 in /Users/amelieschreiber/anaconda3/lib/python3.7/site-packages (from qiskit) (0.3.2)\n",
      "Requirement already satisfied: qiskit-ignis==0.2.0 in /Users/amelieschreiber/anaconda3/lib/python3.7/site-packages (from qiskit) (0.2.0)\n",
      "Requirement already satisfied: qiskit-aqua==0.6.1 in /Users/amelieschreiber/anaconda3/lib/python3.7/site-packages (from qiskit) (0.6.1)\n",
      "Requirement already satisfied: qiskit-ibmq-provider==0.3.3 in /Users/amelieschreiber/anaconda3/lib/python3.7/site-packages (from qiskit) (0.3.3)\n",
      "Requirement already satisfied: qiskit-terra==0.10.0 in /Users/amelieschreiber/anaconda3/lib/python3.7/site-packages (from qiskit) (0.10.0)\n",
      "Requirement already satisfied: numpy>=1.13 in /Users/amelieschreiber/anaconda3/lib/python3.7/site-packages (from qiskit-aer==0.3.2->qiskit) (1.18.0)\n",
      "Requirement already satisfied: scipy!=0.19.1,>=0.19 in /Users/amelieschreiber/anaconda3/lib/python3.7/site-packages (from qiskit-ignis==0.2.0->qiskit) (1.4.1)\n",
      "Requirement already satisfied: setuptools>=40.1.0 in /Users/amelieschreiber/anaconda3/lib/python3.7/site-packages (from qiskit-ignis==0.2.0->qiskit) (41.0.1)\n",
      "Requirement already satisfied: psutil>=5 in /Users/amelieschreiber/anaconda3/lib/python3.7/site-packages (from qiskit-aqua==0.6.1->qiskit) (5.6.3)\n",
      "Requirement already satisfied: networkx>=2.2 in /Users/amelieschreiber/anaconda3/lib/python3.7/site-packages (from qiskit-aqua==0.6.1->qiskit) (2.3)\n",
      "Requirement already satisfied: scikit-learn>=0.20.0 in /Users/amelieschreiber/anaconda3/lib/python3.7/site-packages (from qiskit-aqua==0.6.1->qiskit) (0.22)\n",
      "Requirement already satisfied: fastdtw in /Users/amelieschreiber/anaconda3/lib/python3.7/site-packages (from qiskit-aqua==0.6.1->qiskit) (0.3.4)\n",
      "Requirement already satisfied: cvxopt in /Users/amelieschreiber/anaconda3/lib/python3.7/site-packages (from qiskit-aqua==0.6.1->qiskit) (1.2.3)\n",
      "Requirement already satisfied: docplex in /Users/amelieschreiber/anaconda3/lib/python3.7/site-packages (from qiskit-aqua==0.6.1->qiskit) (2.11.176)\n",
      "Requirement already satisfied: pyscf; sys_platform != \"win32\" in /Users/amelieschreiber/anaconda3/lib/python3.7/site-packages (from qiskit-aqua==0.6.1->qiskit) (1.6.5)\n",
      "Requirement already satisfied: quandl in /Users/amelieschreiber/anaconda3/lib/python3.7/site-packages (from qiskit-aqua==0.6.1->qiskit) (3.4.8)\n",
      "Requirement already satisfied: h5py in /Users/amelieschreiber/anaconda3/lib/python3.7/site-packages (from qiskit-aqua==0.6.1->qiskit) (2.9.0)\n",
      "Requirement already satisfied: sympy>=1.3 in /Users/amelieschreiber/anaconda3/lib/python3.7/site-packages (from qiskit-aqua==0.6.1->qiskit) (1.4)\n",
      "Requirement already satisfied: jsonschema>=2.6 in /Users/amelieschreiber/anaconda3/lib/python3.7/site-packages (from qiskit-aqua==0.6.1->qiskit) (3.0.1)\n",
      "Requirement already satisfied: dlx in /Users/amelieschreiber/anaconda3/lib/python3.7/site-packages (from qiskit-aqua==0.6.1->qiskit) (1.0.4)\n",
      "Requirement already satisfied: websockets<8,>=7 in /Users/amelieschreiber/anaconda3/lib/python3.7/site-packages (from qiskit-ibmq-provider==0.3.3->qiskit) (7.0)\n",
      "Requirement already satisfied: requests-ntlm>=1.1.0 in /Users/amelieschreiber/anaconda3/lib/python3.7/site-packages (from qiskit-ibmq-provider==0.3.3->qiskit) (1.1.0)\n",
      "Requirement already satisfied: nest-asyncio==1.0.0 in /Users/amelieschreiber/anaconda3/lib/python3.7/site-packages (from qiskit-ibmq-provider==0.3.3->qiskit) (1.0.0)\n",
      "Requirement already satisfied: requests>=2.19 in /Users/amelieschreiber/anaconda3/lib/python3.7/site-packages (from qiskit-ibmq-provider==0.3.3->qiskit) (2.22.0)\n",
      "Requirement already satisfied: marshmallow-polyfield<6,>=5.7 in /Users/amelieschreiber/anaconda3/lib/python3.7/site-packages (from qiskit-terra==0.10.0->qiskit) (5.7)\n",
      "Requirement already satisfied: marshmallow<4,>=3 in /Users/amelieschreiber/anaconda3/lib/python3.7/site-packages (from qiskit-terra==0.10.0->qiskit) (3.3.0)\n",
      "Requirement already satisfied: ply>=3.10 in /Users/amelieschreiber/anaconda3/lib/python3.7/site-packages (from qiskit-terra==0.10.0->qiskit) (3.11)\n",
      "Requirement already satisfied: decorator>=4.3.0 in /Users/amelieschreiber/anaconda3/lib/python3.7/site-packages (from networkx>=2.2->qiskit-aqua==0.6.1->qiskit) (4.4.0)\n",
      "Requirement already satisfied: joblib>=0.11 in /Users/amelieschreiber/anaconda3/lib/python3.7/site-packages (from scikit-learn>=0.20.0->qiskit-aqua==0.6.1->qiskit) (0.13.2)\n",
      "Requirement already satisfied: six in /Users/amelieschreiber/anaconda3/lib/python3.7/site-packages (from docplex->qiskit-aqua==0.6.1->qiskit) (1.12.0)\n",
      "Requirement already satisfied: docloud>=1.0.375 in /Users/amelieschreiber/anaconda3/lib/python3.7/site-packages (from docplex->qiskit-aqua==0.6.1->qiskit) (1.0.375)\n",
      "Requirement already satisfied: pandas>=0.14 in /Users/amelieschreiber/anaconda3/lib/python3.7/site-packages (from quandl->qiskit-aqua==0.6.1->qiskit) (0.24.2)\n",
      "Requirement already satisfied: more-itertools<=5.0.0 in /Users/amelieschreiber/anaconda3/lib/python3.7/site-packages (from quandl->qiskit-aqua==0.6.1->qiskit) (5.0.0)\n",
      "Requirement already satisfied: inflection>=0.3.1 in /Users/amelieschreiber/anaconda3/lib/python3.7/site-packages (from quandl->qiskit-aqua==0.6.1->qiskit) (0.3.1)\n",
      "Requirement already satisfied: python-dateutil in /Users/amelieschreiber/anaconda3/lib/python3.7/site-packages (from quandl->qiskit-aqua==0.6.1->qiskit) (2.8.0)\n",
      "Requirement already satisfied: pyasn1 in /Users/amelieschreiber/anaconda3/lib/python3.7/site-packages (from quandl->qiskit-aqua==0.6.1->qiskit) (0.4.8)\n",
      "Requirement already satisfied: pyOpenSSL in /Users/amelieschreiber/anaconda3/lib/python3.7/site-packages (from quandl->qiskit-aqua==0.6.1->qiskit) (19.0.0)\n",
      "Requirement already satisfied: ndg-httpsclient in /Users/amelieschreiber/anaconda3/lib/python3.7/site-packages (from quandl->qiskit-aqua==0.6.1->qiskit) (0.5.1)\n",
      "Requirement already satisfied: mpmath>=0.19 in /Users/amelieschreiber/anaconda3/lib/python3.7/site-packages (from sympy>=1.3->qiskit-aqua==0.6.1->qiskit) (1.1.0)\n",
      "Requirement already satisfied: attrs>=17.4.0 in /Users/amelieschreiber/anaconda3/lib/python3.7/site-packages (from jsonschema>=2.6->qiskit-aqua==0.6.1->qiskit) (19.1.0)\n",
      "Requirement already satisfied: pyrsistent>=0.14.0 in /Users/amelieschreiber/anaconda3/lib/python3.7/site-packages (from jsonschema>=2.6->qiskit-aqua==0.6.1->qiskit) (0.14.11)\n",
      "Requirement already satisfied: cryptography>=1.3 in /Users/amelieschreiber/anaconda3/lib/python3.7/site-packages (from requests-ntlm>=1.1.0->qiskit-ibmq-provider==0.3.3->qiskit) (2.7)\n",
      "Requirement already satisfied: ntlm-auth>=1.0.2 in /Users/amelieschreiber/anaconda3/lib/python3.7/site-packages (from requests-ntlm>=1.1.0->qiskit-ibmq-provider==0.3.3->qiskit) (1.4.0)\n",
      "Requirement already satisfied: chardet<3.1.0,>=3.0.2 in /Users/amelieschreiber/anaconda3/lib/python3.7/site-packages (from requests>=2.19->qiskit-ibmq-provider==0.3.3->qiskit) (3.0.4)\n",
      "Requirement already satisfied: urllib3!=1.25.0,!=1.25.1,<1.26,>=1.21.1 in /Users/amelieschreiber/anaconda3/lib/python3.7/site-packages (from requests>=2.19->qiskit-ibmq-provider==0.3.3->qiskit) (1.24.2)\n",
      "Requirement already satisfied: certifi>=2017.4.17 in /Users/amelieschreiber/anaconda3/lib/python3.7/site-packages (from requests>=2.19->qiskit-ibmq-provider==0.3.3->qiskit) (2020.4.5.1)\n",
      "Requirement already satisfied: idna<2.9,>=2.5 in /Users/amelieschreiber/anaconda3/lib/python3.7/site-packages (from requests>=2.19->qiskit-ibmq-provider==0.3.3->qiskit) (2.8)\n",
      "Requirement already satisfied: pytz>=2011k in /Users/amelieschreiber/anaconda3/lib/python3.7/site-packages (from pandas>=0.14->quandl->qiskit-aqua==0.6.1->qiskit) (2019.1)\n",
      "Requirement already satisfied: cffi!=1.11.3,>=1.8 in /Users/amelieschreiber/anaconda3/lib/python3.7/site-packages (from cryptography>=1.3->requests-ntlm>=1.1.0->qiskit-ibmq-provider==0.3.3->qiskit) (1.12.3)\n",
      "Requirement already satisfied: asn1crypto>=0.21.0 in /Users/amelieschreiber/anaconda3/lib/python3.7/site-packages (from cryptography>=1.3->requests-ntlm>=1.1.0->qiskit-ibmq-provider==0.3.3->qiskit) (0.24.0)\n",
      "Requirement already satisfied: pycparser in /Users/amelieschreiber/anaconda3/lib/python3.7/site-packages (from cffi!=1.11.3,>=1.8->cryptography>=1.3->requests-ntlm>=1.1.0->qiskit-ibmq-provider==0.3.3->qiskit) (2.19)\n"
     ]
    },
    {
     "name": "stdout",
     "output_type": "stream",
     "text": [
      "Note: you may need to restart the kernel to use updated packages.\n"
     ]
    }
   ],
   "source": [
    "pip install qiskit"
   ]
  },
  {
   "cell_type": "code",
   "execution_count": 5,
   "metadata": {},
   "outputs": [],
   "source": [
    "import matplotlib.pyplot as plt\n",
    "%matplotlib inline\n",
    "import numpy as np\n",
    "from math import pi\n",
    "from qiskit import *"
   ]
  },
  {
   "cell_type": "markdown",
   "metadata": {},
   "source": [
    "First, let's define a quantum register. "
   ]
  },
  {
   "cell_type": "code",
   "execution_count": 6,
   "metadata": {},
   "outputs": [],
   "source": [
    "q = QuantumRegister(4)"
   ]
  },
  {
   "cell_type": "markdown",
   "metadata": {},
   "source": [
    "Now, we can define the quantum circuit with four qubits for the Quantum Fourier Transform. We include barriers between sequences of gates according to the target qubit for the controlled-$U_1$ gates given by the four matrices\n",
    "\n",
    "\\begin{align}\n",
    "R_1 = \\begin{pmatrix}\n",
    "1 & 0 \\\\\n",
    "0 & e^{2 \\pi i /2^0}\n",
    "\\end{pmatrix} = \n",
    "\\begin{pmatrix}\n",
    "1 & 0 \\\\\n",
    "0 & 1\n",
    "\\end{pmatrix}, \\quad \n",
    "R_2 = \\begin{pmatrix}\n",
    "1 & 0 \\\\\n",
    "0 & e^{2 \\pi i /2^2}\n",
    "\\end{pmatrix}, \\quad \n",
    "R_3 = \\begin{pmatrix}\n",
    "1 & 0 \\\\\n",
    "0 & e^{2 \\pi i /2^3}\n",
    "\\end{pmatrix}, \\quad \n",
    "R_4 = \\begin{pmatrix}\n",
    "1 & 0 \\\\\n",
    "0 & e^{2 \\pi i /2^4}\n",
    "\\end{pmatrix}.\n",
    "\\end{align}"
   ]
  },
  {
   "cell_type": "markdown",
   "metadata": {},
   "source": [
    "So, for example, have a barrier between the first sequence of gates $H, R_2, R_3, R_4$ and the second sequence of gates $H, R_2, R_3$. Without the barriers, the gates sometimes print out in a different order (try it) which can make reading the circuit diagram printout a little more confusing. Again, since the $R_1$ gate is simply the identity, it usually doesn't show up in code or circuit diagrams as it does nothing to any of the qubits. "
   ]
  },
  {
   "cell_type": "code",
   "execution_count": 7,
   "metadata": {},
   "outputs": [
    {
     "data": {
      "image/png": "[encoded data removed]",
      "text/plain": [
       "<Figure size 949.956x264.88 with 1 Axes>"
      ]
     },
     "execution_count": 7,
     "metadata": {},
     "output_type": "execute_result"
    }
   ],
   "source": [
    "qc = QuantumCircuit(q)\n",
    "#-------------------\n",
    "qc.h(0)\n",
    "qc.cu1(pi/2,q[1],q[0])\n",
    "qc.cu1(pi/4,q[2],q[0])\n",
    "qc.cu1(pi/8,q[3],q[0])\n",
    "#-------------------\n",
    "qc.barrier()\n",
    "qc.h(1)\n",
    "qc.cu1(pi/2,q[2],q[1])\n",
    "qc.cu1(pi/4,q[3],q[1])\n",
    "#-------------------\n",
    "qc.barrier()\n",
    "qc.h(2)\n",
    "qc.cu1(pi/2,q[3],q[2])\n",
    "#-------------------\n",
    "qc.barrier()\n",
    "qc.h(3)\n",
    "#-------------------\n",
    "qc.draw(output='mpl')"
   ]
  },
  {
   "cell_type": "markdown",
   "metadata": {},
   "source": [
    "Now, we can define a device (or backend) to run the circuit on, create a quantum program for execution, and store the result of the job we executed. "
   ]
  },
  {
   "cell_type": "code",
   "execution_count": 8,
   "metadata": {},
   "outputs": [],
   "source": [
    "# Import Aer\n",
    "from qiskit import Aer\n",
    "\n",
    "# Run the quantum circuit on a statevector simulator backend\n",
    "backend = Aer.get_backend('statevector_simulator')"
   ]
  },
  {
   "cell_type": "code",
   "execution_count": 9,
   "metadata": {},
   "outputs": [],
   "source": [
    "# Create a Quantum Program for execution\n",
    "job = execute(qc, backend)"
   ]
  },
  {
   "cell_type": "code",
   "execution_count": 10,
   "metadata": {},
   "outputs": [],
   "source": [
    "result = job.result()"
   ]
  },
  {
   "cell_type": "markdown",
   "metadata": {},
   "source": [
    "Now, we can print the state vector that results from running this circuit. "
   ]
  },
  {
   "cell_type": "code",
   "execution_count": 11,
   "metadata": {},
   "outputs": [
    {
     "name": "stdout",
     "output_type": "stream",
     "text": [
      "[0.25+0.j 0.25+0.j 0.25+0.j 0.25+0.j 0.25+0.j 0.25+0.j 0.25+0.j 0.25+0.j\n",
      " 0.25+0.j 0.25+0.j 0.25+0.j 0.25+0.j 0.25+0.j 0.25+0.j 0.25+0.j 0.25+0.j]\n"
     ]
    }
   ],
   "source": [
    "outputstate = result.get_statevector(qc, decimals=3)\n",
    "print(outputstate)"
   ]
  },
  {
   "cell_type": "markdown",
   "metadata": {},
   "source": [
    "This is a $2^4=16$ dimensional vector, which is expected since we are working with a four-qubit quantum circuit.  "
   ]
  },
  {
   "cell_type": "markdown",
   "metadata": {},
   "source": [
    "### Exercises"
   ]
  },
  {
   "cell_type": "markdown",
   "metadata": {},
   "source": [
    "1. Define a QuantumRegister in QISKit with three qubits. \n",
    "2. Define the Quantum Fourier Transform circuit for this three qubit system and draw the output circuit. Be sure to use barriers in the appropriate places. You will only need two controlled-$U_1$ gates. They correspond to the following gates, \n",
    "\n",
    "\\begin{align}\n",
    "R_2 = \\begin{pmatrix}\n",
    "1 & 0 \\\\\n",
    "0 & e^{2 \\pi i /2^2}\n",
    "\\end{pmatrix}, \\quad \n",
    "R_3 = \\begin{pmatrix}\n",
    "1 & 0 \\\\\n",
    "0 & e^{2 \\pi i /2^3}\n",
    "\\end{pmatrix}\n",
    "\\end{align}\n",
    "\n",
    "3. Define a device (or backend) to run this circuit on using Aer, create a job, store the result, and print the state vector that results from running this circuit. "
   ]
  },
  {
   "cell_type": "markdown",
   "metadata": {},
   "source": [
    "## Applications"
   ]
  },
  {
   "cell_type": "markdown",
   "metadata": {},
   "source": [
    "The Quantum Fourier Transform, which is essentially a discrete Fourier transform, has many applications. One thing to note is that quantum computers can implement the Quantum Fourier Transform using $O(n^2)$ gates. The best classical algorithms for implementing a disctrete Fourier transform on $2^n$ elements are algorithms like the **[Fast Fourier Transform](https://en.wikipedia.org/wiki/Fast_Fourier_transform)**, which computes the disctrete Fourier transform on $2^n$ elements in $O(n2^n)>>O(n^2)$ logic gates, much greater than the $O(n^2)$ gates for a quantum computer computing the QFT. So, we use exponentially more gates on a classical computer. Finding applications of this exponential speedup then should be considered highly important. "
   ]
  },
  {
   "cell_type": "markdown",
   "metadata": {},
   "source": [
    "### Phase Estimation"
   ]
  },
  {
   "cell_type": "markdown",
   "metadata": {},
   "source": [
    "Phase estimation is described by Nielson and Chuang (pg. 245) as follows.\n",
    "\n",
    "> \"Let $|u\\rangle$ be an eigenstate of some unitary operator $U$, with eigenvalue $e^{2\\pi i \\phi}$. Starting from the initial state $|0\\rangle^{\\otimes t}|u\\rangle$, and given the ability to efficiently perform $U^{2^k}$ for some integer $k$, this algorithm can be used to efficiently obtain state $|\\tilde{\\phi}\\rangle |u\\rangle$, where $\\tilde{\\phi}$ accurately approximates $\\phi$ to $t-\\lceil \\log(2+\\frac{1}{2\\epsilon}) \\rceil$ bits with probability at least $1 - \\epsilon$.\" "
   ]
  },
  {
   "cell_type": "markdown",
   "metadata": {},
   "source": [
    "The schematic for the phase estimation circuit is:"
   ]
  },
  {
   "cell_type": "markdown",
   "metadata": {},
   "source": [
    "![phase_estimation_1.png](phase_estimation_1.png)"
   ]
  },
  {
   "cell_type": "markdown",
   "metadata": {},
   "source": [
    "\\begin{quantikz}\n",
    "\\lstick{$\\ket{0}^{\\otimes t}$} & \\gate{H^j} \\qwbundle{t} & \\ctrl{1} & \\gate{FT^{\\dagger}} & \\meter{} & \\\\\n",
    "\\lstick{$\\ket{u}^{\\otimes m}$} & \\qw \\qwbundle{m}        & \\gate{U^{2^j}} & \\qw       & \\qw  & \\qw \\ket{u}\n",
    "\\end{quantikz}"
   ]
  },
  {
   "cell_type": "markdown",
   "metadata": {},
   "source": [
    "The gate $FT^{\\dagger}$ is the inverse Quantum Fourier Transform. The top wire represents $t$-qubits and is actually a bundle of $t$-wires, with qubits in the initial state $|0\\rangle$. The bottom wire is again a bundle of $m$-wires on $m$-qubits in state $|u\\rangle$, the eigenstate of the unitary operator $U$ with eigenvalue $e^{2 \\pi i \\phi}$. The operator $H^j = H^{\\otimes t}$ is meant to indicate a series (or tensor product) of Hadamard gates on the first $j = 1, 2, ..., t$ qubits, and the controlled-$U^j$ gate is meant to indicate the application of successive controlled-$U^j$ gates for $2^j = 2^0, 2^1, 2^2, ..., 2^{t-1}$. This notation might be a bit confusing so let's look at an example with $t=3$ qubits on the first register, and the same number on the second register. The first part of the circuit, prior to the Quantum Fourier Transform is as follws:"
   ]
  },
  {
   "attachments": {},
   "cell_type": "markdown",
   "metadata": {},
   "source": [
    "![phase_est_3_qubits.png](phase_est_3_qubits.png)"
   ]
  },
  {
   "cell_type": "markdown",
   "metadata": {},
   "source": [
    "\\begin{quantikz}\n",
    "\\lstick{$\\ket{0}$} & \\gate{H} & \\qw        & \\qw      & \\ctrl{3} & \\qw \\ket{0} + e^{2 \\pi i (2^2 \\phi)}\\ket{1}\\\\\n",
    "\\lstick{$\\ket{0}$} & \\gate{H} & \\qw        & \\ctrl{2} & \\qw      & \\qw \\ket{0} + e^{2 \\pi i (2^1 \\phi)}\\ket{1}\\\\\n",
    "\\lstick{$\\ket{0}$} & \\gate{H} & \\ctrl{1}   & \\qw      & \\qw      & \\qw \\ket{0} + e^{2 \\pi i (2^0 \\phi)}\\ket{1} \\\\\n",
    "\\lstick{$\\ket{u}$} & \\qw  \\qwbundle[alternate]{} & \\gate{U^{2^0}} \\qwbundle[\n",
    "alternate]{} & \\gate{U^{2^1}} \\qwbundle[\n",
    "alternate]{} & \\gate{U^{2^2}} \\qwbundle[\n",
    "alternate]{} & \\qwbundle[\n",
    "alternate]{} \\ket{u}\n",
    "\\end{quantikz}"
   ]
  },
  {
   "cell_type": "markdown",
   "metadata": {},
   "source": [
    "The superposition states on the right hand side must also be multiplied by a normalization factor of $1/2^{3/2}$. The next part of the circuit applies the *inverse* Quantum Fourier Transform $FT^{\\dagger}$ to the first three qubits. This circuit will work for phase estimation using a unitary operator $U$ that is $2^3 \\times 2^3 = 8 \\times 8$. We can devise a somewhat simpler example for a smaller controlled $U$ by choosing \n",
    "\n",
    "\\begin{align}\n",
    "U_1 = \n",
    "\\begin{pmatrix}\n",
    "1 & 0 \\\\\n",
    "0 & e^{i \\lambda}\n",
    "\\end{pmatrix}\n",
    "\\end{align}\n",
    "\n",
    "Let's have a look at how to construct the first part of this circuit in QISKit for this choice of $U$. First, let's define a four-qubit quantum register, with a three-bit classical register, and apply a Hadamard gate to the first three qubits, followed by a barrier. "
   ]
  },
  {
   "cell_type": "code",
   "execution_count": 12,
   "metadata": {},
   "outputs": [],
   "source": [
    "qr = QuantumRegister(4)\n",
    "cr = ClassicalRegister(3)"
   ]
  },
  {
   "cell_type": "code",
   "execution_count": 13,
   "metadata": {},
   "outputs": [
    {
     "data": {
      "image/png": "[encoded data removed]",
      "text/plain": [
       "<Figure size 287.756x325.08 with 1 Axes>"
      ]
     },
     "execution_count": 13,
     "metadata": {},
     "output_type": "execute_result"
    }
   ],
   "source": [
    "qc2 = QuantumCircuit(qr, cr)\n",
    "#-------------------\n",
    "qc2.h(0)\n",
    "qc2.h(1)\n",
    "qc2.h(2)\n",
    "qc2.barrier()\n",
    "#-------------------\n",
    "qc2.draw(output='mpl')"
   ]
  },
  {
   "cell_type": "markdown",
   "metadata": {},
   "source": [
    "Now, we need to apply the controlled-$U_1$ gate a total of $2^3-1 = 7$ times to the fourth qubit, with the control qubit going sequentially upward along the third, second, and first qubit. Each time we step up a qubit, we apply the controlled-$U_1$ gate twice as many times. Let's choose a value of $\\lambda = \\pi/2$. "
   ]
  },
  {
   "cell_type": "code",
   "execution_count": 14,
   "metadata": {},
   "outputs": [
    {
     "data": {
      "image/png": "[encoded data removed]",
      "text/plain": [
       "<Figure size 769.356x325.08 with 1 Axes>"
      ]
     },
     "execution_count": 14,
     "metadata": {},
     "output_type": "execute_result"
    }
   ],
   "source": [
    "qc2.cu1(pi/2,qr[2],qr[3])\n",
    "qc2.cu1(pi/2,qr[1],qr[3])\n",
    "qc2.cu1(pi/2,qr[1],qr[3])\n",
    "qc2.cu1(pi/2,qr[0],qr[3])\n",
    "qc2.cu1(pi/2,qr[0],qr[3])\n",
    "qc2.cu1(pi/2,qr[0],qr[3])\n",
    "qc2.cu1(pi/2,qr[0],qr[3])\n",
    "qc2.barrier()\n",
    "qc2.draw(output='mpl')"
   ]
  },
  {
   "cell_type": "markdown",
   "metadata": {},
   "source": [
    "As we can see, we applied the controlled-$U_1$ gate $2^0 = 1$ time with the control qubit equal to the thrid qubit. We then applied the controlled-$U_1$ gate $2^1 = 2$ times to with the control qubit equal to the second qubit. Finally, we applied it $2^2 = 4$ times with the control qubit equal to the first qubit. The next part of the algorithm is to apply the *inverse* Quantum Fourier transform to the first three qubits. Let's build this circuit separately and then we can simple adjoin it to our circuit `qc2` above. First, let's import `math`. "
   ]
  },
  {
   "cell_type": "code",
   "execution_count": 15,
   "metadata": {},
   "outputs": [],
   "source": [
    "import math"
   ]
  },
  {
   "cell_type": "markdown",
   "metadata": {},
   "source": [
    "Next, we define a `QuantumCircuit()` with the same four-qubit quantum register and three-qubit classical register as the circuit `qc2`. "
   ]
  },
  {
   "cell_type": "code",
   "execution_count": 16,
   "metadata": {},
   "outputs": [],
   "source": [
    "qc3 = QuantumCircuit(qr, cr)"
   ]
  },
  {
   "cell_type": "markdown",
   "metadata": {},
   "source": [
    "Now, we are going to define a function that performs the *inverse* Quantum Fourier Transform for a given circuit `circ` and for the first n-qubits in `circ`. "
   ]
  },
  {
   "cell_type": "code",
   "execution_count": 17,
   "metadata": {},
   "outputs": [],
   "source": [
    "def qft_dagger(circ, n):\n",
    "    \"\"\"n-qubit QFTdagger the first n qubits in circ\"\"\"\n",
    "    # Don't forget the Swaps!\n",
    "    for qubit in range(n//2):\n",
    "        circ.swap(qubit, n-qubit-1)\n",
    "    for j in range(n):\n",
    "        for m in range(j):\n",
    "            circ.cu1(-math.pi/float(2**(j-m)), m, j)\n",
    "        circ.h(j)"
   ]
  },
  {
   "cell_type": "markdown",
   "metadata": {},
   "source": [
    "Okay, now we apply this function to our circuit `qc3` defined above on the first $n=3$ qubits. "
   ]
  },
  {
   "cell_type": "code",
   "execution_count": 18,
   "metadata": {},
   "outputs": [],
   "source": [
    "qc3.barrier()\n",
    "# Apply inverse QFT\n",
    "qft_dagger(qc3, 3)\n",
    "# Measure\n",
    "qc3.barrier()\n",
    "for n in range(3):\n",
    "    qc3.measure(n,n)"
   ]
  },
  {
   "cell_type": "markdown",
   "metadata": {},
   "source": [
    "Now, let's draw our circuit. "
   ]
  },
  {
   "cell_type": "code",
   "execution_count": 19,
   "metadata": {},
   "outputs": [
    {
     "data": {
      "image/png": "[encoded data removed]",
      "text/plain": [
       "<Figure size 889.756x325.08 with 1 Axes>"
      ]
     },
     "execution_count": 19,
     "metadata": {},
     "output_type": "execute_result"
    }
   ],
   "source": [
    "qc3.draw(output='mpl')"
   ]
  },
  {
   "cell_type": "markdown",
   "metadata": {},
   "source": [
    "Okay, finally let's adjoin `qc3` to the end of `qc2` and then draw the resulting circuit. "
   ]
  },
  {
   "cell_type": "code",
   "execution_count": 20,
   "metadata": {},
   "outputs": [],
   "source": [
    "circuit = qc2+qc3"
   ]
  },
  {
   "cell_type": "code",
   "execution_count": 21,
   "metadata": {},
   "outputs": [
    {
     "data": {
      "image/png": "[encoded data removed]",
      "text/plain": [
       "<Figure size 1491.76x325.08 with 1 Axes>"
      ]
     },
     "execution_count": 21,
     "metadata": {},
     "output_type": "execute_result"
    }
   ],
   "source": [
    "circuit.draw(output='mpl')"
   ]
  },
  {
   "cell_type": "markdown",
   "metadata": {},
   "source": [
    "### Exercises\n",
    "\n",
    "Now, for our circuit `circuit` which was `qc2+qc3` we chose an eigenstate $|u\\rangle = |0\\rangle$ for the controlled-$U_1$ gate. However, we could have also chosen the eigenvector $|1\\rangle$, with has eigenvalue $e^{i \\lambda}$ with out choice of $\\lambda = \\pi/2$. \n",
    "\n",
    "1. Reconstruct the circuit above for phase estimation, but for $|u\\rangle = |1\\rangle$. To do this, you will need to flip the spin-up state $|0\\rangle$ into the spin-down state $|1\\rangle$. Which gate operation will you need to apply in order to initialize the fourth qubit to be in state $|1\\rangle$?\n",
    "\n",
    "2. Recall, for $t$ qubits we can estimate the value $\\phi$ for the eigenvalue $e^{2 \\pi i \\phi}$ with accuracy $t-\\lceil \\log(2+\\frac{1}{2\\epsilon}) \\rceil$. Compute the accuracy we achieve with the above circuit ($t=3$). \n",
    "\n",
    "3. Compute the accuracy if we have $t=4$ qubits. For an example of the accuracy improvement for different choices of $U$ see the [Qiskit documentation](https://qiskit.org/textbook/ch-algorithms/quantum-phase-estimation.html)."
   ]
  },
  {
   "cell_type": "markdown",
   "metadata": {},
   "source": [
    "### Order-Finding and Factoring"
   ]
  },
  {
   "cell_type": "markdown",
   "metadata": {},
   "source": [
    "The phase estimation algorithm can be used to solve two important problems, **order-finding** and **factoring**. Efficient implementations of these two applications can be used to break RSA public-key cryptography. These two applications, according to Nielson and Chuange (pg. 226), provide evidence that quantum computers may be inherently more powerful than classical computers and they give reason to doubt the strong Church-Turing thesis. \n",
    "\n",
    "To understand order-finding we need some basic number theory. Let $x$ and $N$ be positive integers with no common factors. We define the **order of $x$ modulo $N$** to be the smallest positive integer $r$ such that \n",
    "\n",
    "\\begin{align}\n",
    "x^r = 1 (\\textbf{mod} \\ N).\n",
    "\\end{align}"
   ]
  },
  {
   "cell_type": "markdown",
   "metadata": {},
   "source": [
    "Finding the order $r$ of two given integers $x$ and $N$ is believed to be hard. In particular, there is no known algorithm that can solve the problem with a polynomial amount of resources in the $O(L)$ bits needed to specify the problem. Here, $L = \\lceil \\log(N) \\rceil$ is the number of bits used to specify the integer $N$. Now, the quantum algorithm used to for order-finding is the phase estimation algorithm applied to the unitary operator\n",
    "\n",
    "\\begin{align}\n",
    "U|y\\rangle = |xy (\\textbf{mod} \\ N)\\rangle, \n",
    "\\end{align}\n",
    "\n",
    "where $y \\in \\{0,1\\}^L$. The eigenstates of the operator $U$ are, \n",
    "\n",
    "\\begin{align}\n",
    "|u_s\\rangle = \\frac{1}{\\sqrt{r}} \\sum_{k=0}^{r-1}e^{(-2\\pi i sk)/r}|x^k (\\textbf{mod} \\ N)\\rangle. \n",
    "\\end{align}"
   ]
  },
  {
   "cell_type": "markdown",
   "metadata": {},
   "source": [
    "The eigenvalues can be found via the following calculation,\n",
    "\n",
    "\\begin{align}\n",
    "U|u_s\\rangle &= \\frac{1}{\\sqrt{r}} \\sum_{k=0}^{r-1}e^{(-2\\pi i sk)/r}|x^{k+1} (\\textbf{mod} \\ N)\\rangle \\\\\n",
    "&= e^{2 \\pi is/r}|u_s\\rangle.\n",
    "\\end{align}\n",
    "\n",
    "Here $0 \\leq s \\leq r-1$. The quantum circuit for the order-finding algorithm is as follows:"
   ]
  },
  {
   "attachments": {},
   "cell_type": "markdown",
   "metadata": {},
   "source": [
    "![order_finding_circuit.png](order_finding_circuit.png)"
   ]
  },
  {
   "cell_type": "markdown",
   "metadata": {},
   "source": [
    "\\begin{quantikz}\n",
    "\\lstick{$\\ket{0}^{\\otimes t}$} & \\gate{H^{\\otimes t}}\\qwbundle{t} & \\ctrl{1}           & \\gate{FT^{\\dagger}} & \\meter{}\\\\\n",
    "\\lstick{$\\ket{1}^{\\otimes L}$} & \\qw \\qwbundle{L}                 & \\gate{x^j (mod N)} & \\qw                 & \\qw \n",
    "\\end{quantikz}"
   ]
  },
  {
   "cell_type": "markdown",
   "metadata": {},
   "source": [
    "This circuit can also be used for factoring. The gate $FT^{\\dagger}$ is the inverse Quantum Fourier Transform. "
   ]
  },
  {
   "cell_type": "markdown",
   "metadata": {},
   "source": [
    "## Creating Python Functions to Compute Phase Estimation, QFT, and QFT$^{\\dagger}$"
   ]
  },
  {
   "cell_type": "markdown",
   "metadata": {},
   "source": [
    "In this section we are going to construct three functions that operate on quantum circuits. First, we are going to construct a Python function to prepare the phase estimation algorithm. Next, we'll construct a function that performs the Quantum Fourier Transform. Finally, we will build a function that performs the Inverse Quantum Fourier Transform. "
   ]
  },
  {
   "cell_type": "code",
   "execution_count": 22,
   "metadata": {},
   "outputs": [],
   "source": [
    "from qiskit import *"
   ]
  },
  {
   "cell_type": "markdown",
   "metadata": {},
   "source": [
    "### Phase Estimation"
   ]
  },
  {
   "cell_type": "code",
   "execution_count": 23,
   "metadata": {},
   "outputs": [],
   "source": [
    "def phase_est(circ, n):\n",
    "    \"\"\"Phase estimation on n-qubits\"\"\"\n",
    "    for m in range(n-1):\n",
    "        circ.h(m)\n",
    "    circ.barrier()\n",
    "    for j in range(n-1):\n",
    "        circ.cu1(math.pi/float(2**j), n-2-j, n-1)"
   ]
  },
  {
   "cell_type": "markdown",
   "metadata": {},
   "source": [
    "Let's test it out on a five qubit circuit. "
   ]
  },
  {
   "cell_type": "code",
   "execution_count": 24,
   "metadata": {},
   "outputs": [
    {
     "data": {
      "image/png": "[encoded data removed]",
      "text/plain": [
       "<Figure size 517.72x325.08 with 1 Axes>"
      ]
     },
     "execution_count": 24,
     "metadata": {},
     "output_type": "execute_result"
    }
   ],
   "source": [
    "qc = QuantumCircuit(5)\n",
    "phase_est(qc, 5)\n",
    "qc.draw(output='mpl')"
   ]
  },
  {
   "cell_type": "markdown",
   "metadata": {},
   "source": [
    "### Quantum Fourier Transform"
   ]
  },
  {
   "cell_type": "code",
   "execution_count": 25,
   "metadata": {},
   "outputs": [],
   "source": [
    "def qft(circ, n):\n",
    "    \"\"\"n-qubit Quantum Fourier Transform\"\"\"\n",
    "    for j in range(n-1):\n",
    "        circ.barrier()\n",
    "        circ.h(j)\n",
    "        for m in range(n-j-1):\n",
    "            circ.cu1(math.pi/float(2**(m+1)), j+m+1, j)"
   ]
  },
  {
   "cell_type": "markdown",
   "metadata": {},
   "source": [
    "Let's test this function out on another five qubit circuit. "
   ]
  },
  {
   "cell_type": "code",
   "execution_count": 26,
   "metadata": {},
   "outputs": [
    {
     "data": {
      "image/png": "[encoded data removed]",
      "text/plain": [
       "<Figure size 1240.12x325.08 with 1 Axes>"
      ]
     },
     "execution_count": 26,
     "metadata": {},
     "output_type": "execute_result"
    }
   ],
   "source": [
    "qc2 = QuantumCircuit(5)\n",
    "qft(qc2, 5)\n",
    "qc2.draw(output='mpl')"
   ]
  },
  {
   "cell_type": "markdown",
   "metadata": {},
   "source": [
    "### Inverse Quantum Fourier Transform"
   ]
  },
  {
   "cell_type": "code",
   "execution_count": 27,
   "metadata": {},
   "outputs": [],
   "source": [
    "def qft_dagger(circ, n):\n",
    "    \"\"\"n-qubit QFTdagger the first n qubits in circ\"\"\"\n",
    "    # Don't forget the Swaps!\n",
    "    for qubit in range(n//2):\n",
    "        circ.swap(qubit, n-qubit-1)\n",
    "    for j in range(n):\n",
    "        for m in range(j):\n",
    "            circ.cu1(-math.pi/float(2**(j-m)), m, j)\n",
    "        circ.h(j)\n",
    "        circ.barrier()"
   ]
  },
  {
   "cell_type": "markdown",
   "metadata": {},
   "source": [
    "Let's test it on a five qubit circuit. "
   ]
  },
  {
   "cell_type": "code",
   "execution_count": 28,
   "metadata": {},
   "outputs": [
    {
     "data": {
      "image/png": "[encoded data removed]",
      "text/plain": [
       "<Figure size 1420.72x325.08 with 1 Axes>"
      ]
     },
     "execution_count": 28,
     "metadata": {},
     "output_type": "execute_result"
    }
   ],
   "source": [
    "qc3 = QuantumCircuit(5)\n",
    "qft_dagger(qc3, 5)\n",
    "qc3.draw(output='mpl')"
   ]
  },
  {
   "cell_type": "markdown",
   "metadata": {},
   "source": [
    "### Exercises"
   ]
  },
  {
   "cell_type": "markdown",
   "metadata": {},
   "source": [
    "1. Create a four qubit quantum circuit named `qc1`. Use the `qft` function on `qc1`. \n",
    "2. Create a four qubit quantum circuit named `qc2`. Use the `qft_dagger` function on `qc2`.\n",
    "3. Create a circuit `circ1 = qc1+qc2` that performs the QFT and inverse QFT. \n",
    "4. Run `circ1` on the `statevector_simulator` in QISKit and print the state vector. Does this state vector make sense?\n",
    "5. Construct a circuit `qc3` on four qubits and apply the `phase_est` function to it. \n",
    "6. Explain why this is equivalent to the following circuit (Hint: What is the result of multiple applications of the $U_1$ gate or the controlled-$U_1$ gate?):"
   ]
  },
  {
   "cell_type": "code",
   "execution_count": 29,
   "metadata": {},
   "outputs": [
    {
     "data": {
      "image/png": "[encoded data removed]",
      "text/plain": [
       "<Figure size 769.356x264.88 with 1 Axes>"
      ]
     },
     "execution_count": 29,
     "metadata": {},
     "output_type": "execute_result"
    }
   ],
   "source": [
    "qr = QuantumRegister(4)\n",
    "qc3 = QuantumCircuit(qr)\n",
    "#-------------------\n",
    "qc3.h(0)\n",
    "qc3.h(1)\n",
    "qc3.h(2)\n",
    "qc3.barrier()\n",
    "#-------------------\n",
    "qc3.cu1(pi/2,qr[2],qr[3])\n",
    "qc3.cu1(pi/2,qr[1],qr[3])\n",
    "qc3.cu1(pi/2,qr[1],qr[3])\n",
    "qc3.cu1(pi/2,qr[0],qr[3])\n",
    "qc3.cu1(pi/2,qr[0],qr[3])\n",
    "qc3.cu1(pi/2,qr[0],qr[3])\n",
    "qc3.cu1(pi/2,qr[0],qr[3])\n",
    "qc3.barrier()\n",
    "qc3.draw(output='mpl')"
   ]
  }
 ],
 "metadata": {
  "kernelspec": {
   "display_name": "Python 3",
   "language": "python",
   "name": "python3"
  },
  "language_info": {
   "codemirror_mode": {
    "name": "ipython",
    "version": 3
   },
   "file_extension": ".py",
   "mimetype": "text/x-python",
   "name": "python",
   "nbconvert_exporter": "python",
   "pygments_lexer": "ipython3",
   "version": "3.7.3"
  }
 },
 "nbformat": 4,
 "nbformat_minor": 4
}
